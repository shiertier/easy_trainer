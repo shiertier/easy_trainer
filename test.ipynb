{
 "cells": [
  {
   "cell_type": "markdown",
   "metadata": {},
   "source": [
    "该jupyter应处于easy_trainer目录同级"
   ]
  },
  {
   "cell_type": "code",
   "execution_count": null,
   "metadata": {},
   "outputs": [],
   "source": [
    "from easy_trainer.caption.joy import Joy2\n",
    "from easy_trainer.config import *\n",
    "model_name = JOY2_MODEL_STR\n",
    "devices_key = '0'\n",
    "local = True\n",
    "\n",
    "joy = Joy2(model_name, devices_key, local)"
   ]
  },
  {
   "cell_type": "code",
   "execution_count": null,
   "metadata": {},
   "outputs": [],
   "source": [
    "image_dir = \"/code/easy_trainer/test_pics\"\n",
    "prompt = \"describle the image\"\n",
    "batch_size = 1\n",
    "prepend_string = \"\"\n",
    "append_string = \"\"\n",
    "max_tokens = 64\n",
    "temperature = 0.9\n",
    "top_p = 0.5\n",
    "top_k = 10\n",
    "is_greedy = False\n",
    "overwrite = False\n",
    "\n",
    "joy.generate_captions(image_dir = image_dir,\n",
    "                      prompt = prompt,\n",
    "                      batch_size = batch_size,\n",
    "                      prepend_string = prepend_string,\n",
    "                      append_string = append_string,\n",
    "                      max_tokens = max_tokens,\n",
    "                      temperature = temperature,\n",
    "                      top_p = top_p,\n",
    "                      top_k = top_k,\n",
    "                      is_greedy = is_greedy,\n",
    "                      overwrite = overwrite)"
   ]
  },
  {
   "cell_type": "code",
   "execution_count": null,
   "metadata": {},
   "outputs": [],
   "source": [
    "! pip install -r requirements.txt --no-cache-dir"
   ]
  }
 ],
 "metadata": {
  "kernelspec": {
   "display_name": "Python 3",
   "language": "python",
   "name": "python3"
  },
  "language_info": {
   "codemirror_mode": {
    "name": "ipython",
    "version": 3
   },
   "file_extension": ".py",
   "mimetype": "text/x-python",
   "name": "python",
   "nbconvert_exporter": "python",
   "pygments_lexer": "ipython3",
   "version": "3.10.12"
  }
 },
 "nbformat": 4,
 "nbformat_minor": 2
}
